{
 "cells": [
  {
   "cell_type": "code",
   "execution_count": 1,
   "id": "367c48af",
   "metadata": {},
   "outputs": [
    {
     "name": "stderr",
     "output_type": "stream",
     "text": [
      "\u001b[0m\u001b[33m2025-06-19 12:47:30.210 (   0.900s) [    7FB09F380740]vtkXOpenGLRenderWindow.:1410  WARN| Failed to load GLX. Please install OpenGL drivers.\u001b[0m\n",
      "\u001b[0m\u001b[33m2025-06-19 12:47:30.210 (   0.900s) [    7FB09F380740]vtkOpenGLRenderWindow.c:541   WARN| Failed to load EGL! Please install the EGL library from your distribution's package manager.\u001b[0m\n",
      "\u001b[0m\u001b[33m2025-06-19 12:47:30.210 (   0.900s) [    7FB09F380740]vtkOSOpenGLRenderWindow:152   WARN| libOSMesa not found. It appears that OSMesa is not installed in your system. Please install the OSMesa library from your distribution's package manager.\u001b[0m\n",
      "/home/renangas/Documents/Github_Projects/viz-dados/Entrega_3/venv/lib/python3.11/site-packages/pyvista/plotting/utilities/xvfb.py:48: PyVistaDeprecationWarning: This function is deprecated and will be removed in future version of PyVista. Use vtk-osmesa instead.\n",
      "  warnings.warn(\n",
      "\u001b[0m\u001b[33m2025-06-19 12:47:34.262 (   4.951s) [    7FB09F380740]vtkXOpenGLRenderWindow.:1410  WARN| Failed to load GLX. Please install OpenGL drivers.\u001b[0m\n",
      "\u001b[0m\u001b[33m2025-06-19 12:47:34.262 (   4.952s) [    7FB09F380740]vtkOpenGLRenderWindow.c:541   WARN| Failed to load EGL! Please install the EGL library from your distribution's package manager.\u001b[0m\n",
      "\u001b[0m\u001b[33m2025-06-19 12:47:34.262 (   4.952s) [    7FB09F380740]vtkOSOpenGLRenderWindow:152   WARN| libOSMesa not found. It appears that OSMesa is not installed in your system. Please install the OSMesa library from your distribution's package manager.\u001b[0m\n"
     ]
    },
    {
     "data": {
      "text/plain": [
       "Actor (0x7fb0510ab7c0)\n",
       "  Center:                     (4.523782253265381, 5.176718056201935, 4.963215872645378)\n",
       "  Pickable:                   True\n",
       "  Position:                   (0.0, 0.0, 0.0)\n",
       "  Scale:                      (1.0, 1.0, 1.0)\n",
       "  Visible:                    True\n",
       "  X Bounds                    -9.912E-01, 1.004E+01\n",
       "  Y Bounds                    -8.864E-01, 1.124E+01\n",
       "  Z Bounds                    -4.062E-01, 1.033E+01\n",
       "  User matrix:                Identity\n",
       "  Has mapper:                 True\n",
       "\n",
       "Property (0x7fb0510abd00)\n",
       "  Ambient:                     0.0\n",
       "  Ambient color:               Color(name='green', hex='#008000ff', opacity=255)\n",
       "  Anisotropy:                  0.0\n",
       "  Color:                       Color(name='green', hex='#008000ff', opacity=255)\n",
       "  Culling:                     \"none\"\n",
       "  Diffuse:                     1.0\n",
       "  Diffuse color:               Color(name='green', hex='#008000ff', opacity=255)\n",
       "  Edge color:                  Color(name='black', hex='#000000ff', opacity=255)\n",
       "  Edge opacity:                1.0\n",
       "  Interpolation:               InterpolationType.FLAT\n",
       "  Lighting:                    True\n",
       "  Line width:                  1.0\n",
       "  Metallic:                    0.0\n",
       "  Opacity:                     1.0\n",
       "  Point size:                  5.0\n",
       "  Render lines as tubes:       False\n",
       "  Render points as spheres:    False\n",
       "  Roughness:                   0.5\n",
       "  Show edges:                  False\n",
       "  Specular:                    0.0\n",
       "  Specular color:              Color(name='green', hex='#008000ff', opacity=255)\n",
       "  Specular power:              100.0\n",
       "  Style:                       \"Surface\"\n",
       "\n",
       "DataSetMapper (0x7fb0510ab760)\n",
       "  Scalar visibility:           False\n",
       "  Scalar range:                (0.0, 1.0)\n",
       "  Interpolate before mapping:  True\n",
       "  Scalar map mode:             default\n",
       "  Color mode:                  direct\n",
       "\n",
       "Attached dataset:\n",
       "PolyData (0x7fb0510aa1a0)\n",
       "  N Cells:    1500\n",
       "  N Points:   3100\n",
       "  N Strips:   0\n",
       "  X Bounds:   -9.912e-01, 1.004e+01\n",
       "  Y Bounds:   -8.864e-01, 1.124e+01\n",
       "  Z Bounds:   -4.062e-01, 1.033e+01\n",
       "  N Arrays:   2"
      ]
     },
     "execution_count": 1,
     "metadata": {},
     "output_type": "execute_result"
    }
   ],
   "source": [
    "import pyvista as pv\n",
    "import numpy as np\n",
    "pv.set_jupyter_backend('trame')\n",
    "pv.Report(gpu=False)\n",
    "from pyvista import demos\n",
    "pv.start_xvfb()\n",
    "# demos.plot_wave()\n",
    "\n",
    "\n",
    "# Sample data: points and vectors\n",
    "n = 100\n",
    "points = np.random.rand(n, 3) * 10         # Random positions\n",
    "vectors = np.random.randn(n, 3)            # Random direction vectors\n",
    "scales = np.linalg.norm(vectors, axis=1)   # Optional: scale by vector magnitude\n",
    "\n",
    "# Create a point cloud with vector field\n",
    "point_cloud = pv.PolyData(points)\n",
    "point_cloud[\"vectors\"] = vectors\n",
    "point_cloud[\"scale\"] = scales\n",
    "\n",
    "# Glyphs (e.g., arrows)\n",
    "glyphs = point_cloud.glyph(orient=\"vectors\", scale=\"scale\", factor=0.5)\n",
    "\n",
    "# Plot\n",
    "plotter = pv.Plotter()\n",
    "plotter.add_mesh(glyphs, color=\"green\")"
   ]
  },
  {
   "cell_type": "code",
   "execution_count": 2,
   "id": "a88de262",
   "metadata": {},
   "outputs": [
    {
     "ename": "",
     "evalue": "",
     "output_type": "error",
     "traceback": [
      "\u001b[1;31mThe Kernel crashed while executing code in the current cell or a previous cell. \n",
      "\u001b[1;31mPlease review the code in the cell(s) to identify a possible cause of the failure. \n",
      "\u001b[1;31mClick <a href='https://aka.ms/vscodeJupyterKernelCrash'>here</a> for more info. \n",
      "\u001b[1;31mView Jupyter <a href='command:jupyter.viewOutput'>log</a> for further details."
     ]
    }
   ],
   "source": [
    "plotter.show(jupyter_backend='trame')"
   ]
  }
 ],
 "metadata": {
  "kernelspec": {
   "display_name": "venv",
   "language": "python",
   "name": "python3"
  },
  "language_info": {
   "codemirror_mode": {
    "name": "ipython",
    "version": 3
   },
   "file_extension": ".py",
   "mimetype": "text/x-python",
   "name": "python",
   "nbconvert_exporter": "python",
   "pygments_lexer": "ipython3",
   "version": "3.11.3"
  }
 },
 "nbformat": 4,
 "nbformat_minor": 5
}
